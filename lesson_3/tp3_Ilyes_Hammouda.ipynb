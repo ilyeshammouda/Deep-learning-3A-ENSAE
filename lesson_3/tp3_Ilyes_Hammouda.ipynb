{
 "cells": [
  {
   "cell_type": "code",
   "execution_count": 33,
   "metadata": {},
   "outputs": [],
   "source": [
    "# MNIST with an MLP, from scratch\n",
    "\n",
    "# - Step 1: build an MLP from scratch to solve MNIST. Question set: https://fleuret.org/dlc/materials/dlc-practical-3.pdf\n",
    "# - Step 2: debug your network with backprop ninja and a reference implementation using torch's .backward()\n",
    "# - Step 3: build the same MLP but will full pytorch code (nn.Linear, etc.)"
   ]
  },
  {
   "cell_type": "code",
   "execution_count": 34,
   "metadata": {},
   "outputs": [],
   "source": [
    "import math\n",
    "import torch\n",
    "from torch import nn\n",
    "import matplotlib.pyplot as plt\n",
    "%matplotlib inline"
   ]
  },
  {
   "cell_type": "code",
   "execution_count": 35,
   "metadata": {},
   "outputs": [],
   "source": [
    "from utils import load_data"
   ]
  },
  {
   "cell_type": "code",
   "execution_count": 36,
   "metadata": {},
   "outputs": [
    {
     "name": "stdout",
     "output_type": "stream",
     "text": [
      "* Using MNIST\n",
      "** Reduce the data-set (use --full for the full thing)\n",
      "** Use 1000 train and 1000 test samples\n"
     ]
    }
   ],
   "source": [
    "train_input, train_target, test_input, test_target = load_data(one_hot_labels = True, normalize = True)"
   ]
  },
  {
   "cell_type": "code",
   "execution_count": 37,
   "metadata": {},
   "outputs": [
    {
     "data": {
      "text/plain": [
       "<matplotlib.image.AxesImage at 0x7fdb400b3c10>"
      ]
     },
     "execution_count": 37,
     "metadata": {},
     "output_type": "execute_result"
    },
    {
     "data": {
      "image/png": "[encoded data removed]",
      "text/plain": [
       "<Figure size 432x288 with 1 Axes>"
      ]
     },
     "metadata": {
      "needs_background": "light"
     },
     "output_type": "display_data"
    }
   ],
   "source": [
    "plt.imshow(train_input[4].view((28,28)))"
   ]
  },
  {
   "cell_type": "code",
   "execution_count": 38,
   "metadata": {},
   "outputs": [],
   "source": [
    "def compute_accuracy (preds, targets):\n",
    "    \"\"\" Computes the accuracy between predictions and targets. Data is expected to be one-hot encoded. \"\"\"\n",
    "    _, idx1 = torch.max(preds, dim=1)\n",
    "    _, idx2 = torch.max(targets, dim=1)\n",
    "    d = idx1 == idx2\n",
    "    return d.int().float().mean().item()"
   ]
  },
  {
   "cell_type": "code",
   "execution_count": 39,
   "metadata": {},
   "outputs": [
    {
     "data": {
      "text/plain": [
       "0.75"
      ]
     },
     "execution_count": 39,
     "metadata": {},
     "output_type": "execute_result"
    }
   ],
   "source": [
    "# unit test\n",
    "# this cell should return 0.75\n",
    "preds = torch.zeros((4,7))\n",
    "preds[0,1] = 1\n",
    "preds[1,4] = 1\n",
    "preds[2,2] = 1\n",
    "preds[3,6] = 1\n",
    "targets = torch.zeros((4,7))\n",
    "targets[0,1] = 1\n",
    "targets[1,4] = 1\n",
    "targets[2,2] = 1\n",
    "targets[3,2] = 1\n",
    "compute_accuracy(preds, targets)"
   ]
  },
  {
   "cell_type": "code",
   "execution_count": 40,
   "metadata": {},
   "outputs": [],
   "source": [
    "def sigma(x):\n",
    "    return torch.tanh(x)\n",
    "\n",
    "def dsigma(x):\n",
    "    return 1 - torch.pow(sigma(x), 2)"
   ]
  },
  {
   "cell_type": "code",
   "execution_count": 41,
   "metadata": {},
   "outputs": [],
   "source": [
    "def loss (v,t):\n",
    "    return(torch.sum (torch.pow(v-t,2)))\n",
    "\n",
    "def dloss(v,t):\n",
    "    return torch.mul(2, (v-t))"
   ]
  },
  {
   "cell_type": "code",
   "execution_count": 42,
   "metadata": {},
   "outputs": [
    {
     "data": {
      "text/plain": [
       "tensor([[ 3.5529,  1.1427, -0.1610, -2.0885, -3.8716, -4.2020],\n",
       "        [ 1.1891,  2.0751,  4.8847,  1.2422, -1.4316, -4.5210],\n",
       "        [ 5.5198, -1.9320, -1.5009, -2.7508,  0.8101,  1.0077]])"
      ]
     },
     "execution_count": 42,
     "metadata": {},
     "output_type": "execute_result"
    }
   ],
   "source": [
    "# sanity check\n",
    "v = torch.randn((3, 6), dtype=torch.float32)\n",
    "t = torch.randn((3, 6), dtype=torch.float32)\n",
    "l=loss(v,t)\n",
    "dloss(v,t)"
   ]
  },
  {
   "cell_type": "code",
   "execution_count": 43,
   "metadata": {},
   "outputs": [],
   "source": [
    "# multiply targets by 0.9 to be in the range of tanh\n",
    "train_target *= 0.9\n",
    "test_target *= 0.9"
   ]
  },
  {
   "cell_type": "markdown",
   "metadata": {},
   "source": [
    "### Step 1: Backprop ninja"
   ]
  },
  {
   "cell_type": "code",
   "execution_count": 12,
   "metadata": {},
   "outputs": [],
   "source": [
    "# utility function we will use later when comparing manual gradients to PyTorch gradients\n",
    "# DO NOT MODIFY IT\n",
    "#\n",
    "def cmp(s, dt, t):\n",
    "  ex = torch.all(dt == t.grad).item()\n",
    "  app = torch.allclose(dt, t.grad)\n",
    "  maxdiff = (dt - t.grad).abs().max().item()\n",
    "  print(f'{s:15s} | exact: {str(ex):5s} | approximate: {str(app):5s} | maxdiff: {maxdiff}')"
   ]
  },
  {
   "cell_type": "code",
   "execution_count": 14,
   "metadata": {},
   "outputs": [],
   "source": [
    "torch.manual_seed(1337)\n",
    "w1 = torch.ones((784, 50), requires_grad=True)\n",
    "b1 = torch.ones((50), requires_grad=True)\n",
    "w2 = torch.ones((50, 10), requires_grad=True)\n",
    "b2 = torch.ones((10), requires_grad=True)\n",
    "parameters = [w1, b1, w2, b2]\n",
    "for p in parameters:\n",
    "    p.requires_grad = True"
   ]
  },
  {
   "cell_type": "code",
   "execution_count": 15,
   "metadata": {},
   "outputs": [
    {
     "data": {
      "text/plain": [
       "(torch.Size([5, 10]), tensor(55.8500, grad_fn=<SumBackward0>))"
      ]
     },
     "execution_count": 15,
     "metadata": {},
     "output_type": "execute_result"
    }
   ],
   "source": [
    "x1 = train_input[:5]\n",
    "y1 = train_target[:5]\n",
    "z1 = x1 @ w1 + b1.t()\n",
    "h1 = sigma(z1)\n",
    "z2 = h1 @ w2 + b2.t()\n",
    "h2 = sigma(z2)\n",
    "l = loss(h2, y1)\n",
    "h2.shape, l"
   ]
  },
  {
   "cell_type": "code",
   "execution_count": 16,
   "metadata": {},
   "outputs": [
    {
     "name": "stdout",
     "output_type": "stream",
     "text": [
      "loss=55.849998474121094\n"
     ]
    }
   ],
   "source": [
    "# Force pytorch to retain grade for intermediate nodes and reset grad for parameters\n",
    "# DO NOT MODIFY THIS CODE\n",
    "#\n",
    "others = [h2,z2,h1,z1]\n",
    "for p in parameters:\n",
    "    p.grad = None\n",
    "for t in others:\n",
    "    t.retain_grad()\n",
    "l.backward()\n",
    "print(f'loss={l}')"
   ]
  },
  {
   "cell_type": "code",
   "execution_count": 17,
   "metadata": {},
   "outputs": [
    {
     "data": {
      "text/plain": [
       "torch.Size([10])"
      ]
     },
     "execution_count": 17,
     "metadata": {},
     "output_type": "execute_result"
    }
   ],
   "source": [
    "b2.grad.shape"
   ]
  },
  {
   "cell_type": "code",
   "execution_count": 18,
   "metadata": {},
   "outputs": [
    {
     "name": "stdout",
     "output_type": "stream",
     "text": [
      "h2              | exact: True  | approximate: True  | maxdiff: 0.0\n",
      "z2              | exact: True  | approximate: True  | maxdiff: 0.0\n",
      "w2              | exact: True  | approximate: True  | maxdiff: 0.0\n",
      "b2              | exact: True  | approximate: True  | maxdiff: 0.0\n",
      "h1              | exact: True  | approximate: True  | maxdiff: 0.0\n",
      "z1              | exact: True  | approximate: True  | maxdiff: 0.0\n",
      "w1              | exact: True  | approximate: True  | maxdiff: 0.0\n",
      "b1              | exact: True  | approximate: True  | maxdiff: 0.0\n"
     ]
    }
   ],
   "source": [
    "# here we compare our gradient to the reference gradient computed by pytorch\n",
    "dl = 1.0\n",
    "dh2 = dloss(h2, y1)\n",
    "cmp('h2',dh2,h2)\n",
    "dz2 = torch.mul(dh2, dsigma(z2))\n",
    "cmp('z2',dz2, z2)\n",
    "dw2 = h1.t() @ dz2\n",
    "cmp('w2',dw2, w2)\n",
    "db2 = dz2.sum(0).reshape(b2.shape)\n",
    "cmp('b2',db2, b2)\n",
    "dh1 = dz2 @ w2.t()\n",
    "cmp('h1',dh1, h1)\n",
    "dz1 = torch.mul(dh1, dsigma(z1))\n",
    "cmp('z1', dz1, z1)\n",
    "dw1 = x1.t() @ dz1\n",
    "cmp('w1', dw1, w1)\n",
    "db1 = dz1.sum(0).reshape(b1.shape)\n",
    "cmp('b1', db1, b1)\n"
   ]
  },
  {
   "cell_type": "code",
   "execution_count": 19,
   "metadata": {},
   "outputs": [],
   "source": [
    "lr = 0.1\n",
    "with torch.no_grad():\n",
    "    w1 += -lr * dw1\n",
    "    #print(f'b1:{b1.shape}, \\n db1:{db1.squeeze().shape}')\n",
    "    b1 += -lr * db1.squeeze()\n",
    "    w2 += -lr * dw2\n",
    "    b2 += -lr * db2.squeeze()"
   ]
  },
  {
   "cell_type": "code",
   "execution_count": 20,
   "metadata": {},
   "outputs": [
    {
     "data": {
      "text/plain": [
       "55.849998474121094"
      ]
     },
     "execution_count": 20,
     "metadata": {},
     "output_type": "execute_result"
    }
   ],
   "source": [
    "l = loss(h2, y1)\n",
    "l.item()"
   ]
  },
  {
   "cell_type": "markdown",
   "metadata": {},
   "source": [
    "##### Now that we've checked our gradients are correct, we can implement the network"
   ]
  },
  {
   "cell_type": "code",
   "execution_count": 21,
   "metadata": {},
   "outputs": [],
   "source": [
    "def forward(w1, b1, w2, b2, x):\n",
    "    z1 = x @ w1 + b1.t()\n",
    "    h1 = sigma(z1)\n",
    "    z2 = h1 @ w2 + b2.t()\n",
    "    h2 = sigma(z2)\n",
    "    return z1, h1, z2, h2"
   ]
  },
  {
   "cell_type": "code",
   "execution_count": 22,
   "metadata": {},
   "outputs": [],
   "source": [
    "def backward(w1, b1, w2, b2, x1, y1, h2, z2, h1, z1):\n",
    "    dl = 1.0\n",
    "    dh2 = dloss(h2, y1)\n",
    "    dz2 = torch.mul(dh2, dsigma(z2))\n",
    "    dw2 = h1.t() @ dz2\n",
    "    db2 = dz2.sum(0).reshape(b2.shape)\n",
    "    dh1 = dz2 @ w2.t()\n",
    "    dz1 = torch.mul(dh1, dsigma(z1))\n",
    "    dw1 = x1.t() @ dz1\n",
    "    db1 = dz1.sum(0).reshape(b1.shape)\n",
    "        \n",
    "    return dw1, db1, dw2, db2"
   ]
  },
  {
   "cell_type": "code",
   "execution_count": 23,
   "metadata": {},
   "outputs": [],
   "source": [
    "def update(w1, b1, w2, b2, dw1, db1, dw2, db2, lr):\n",
    "    with torch.no_grad():\n",
    "        w1 += -lr * dw1\n",
    "        b1 += -lr * db1.squeeze()\n",
    "        w2 += -lr * dw2\n",
    "        b2 += -lr * db2.squeeze()\n",
    "    return w1, b1, w2, b2"
   ]
  },
  {
   "cell_type": "code",
   "execution_count": 29,
   "metadata": {},
   "outputs": [],
   "source": [
    "def init():\n",
    "    \"\"\" init a network \"\"\"\n",
    "    torch.manual_seed(1337)\n",
    "    w1 = torch.randn((784, 50), requires_grad=True)\n",
    "    b1 = torch.randn((50), requires_grad=True)\n",
    "    w2 = torch.randn((50, 10), requires_grad=True)\n",
    "    b2 = torch.randn((10), requires_grad=True)\n",
    "    return w1, b1, w2, b2"
   ]
  },
  {
   "cell_type": "code",
   "execution_count": 30,
   "metadata": {},
   "outputs": [],
   "source": [
    "w1, b1, w2, b2 = init()\n",
    "parameters = [w1, b1, w2, b2]\n",
    "for p in parameters:\n",
    "    p.requires_grad_(True)"
   ]
  },
  {
   "cell_type": "code",
   "execution_count": 26,
   "metadata": {},
   "outputs": [],
   "source": [
    "# main training loop\n",
    "torch.set_printoptions(linewidth=200)\n",
    "def train(w1, b1, w2, b2):\n",
    "    lossi = []\n",
    "    for step in range(10000):\n",
    "        xb = train_input\n",
    "        yb = train_target\n",
    "        num_samples = xb.shape[0]\n",
    "        #print(f'{num_samples=}')\n",
    "        # forward\n",
    "        z1, h1, z2, h2 = forward(w1, b1, w2, b2, xb)\n",
    "        lsi = loss(h2, yb)\n",
    "        # backward\n",
    "        dw1, db1, dw2, db2 = backward(w1, b1, w2, b2, xb, yb, h2, z2, h1, z1)\n",
    "        # update\n",
    "        lr = 1 / num_samples if step < 5000 else 0.5 / num_samples\n",
    "        w1, b1, w2, b2 = update(w1, b1, w2, b2, dw1, db1, dw2, db2, lr)\n",
    "        if step % 100 == 0: print(f'step = {step}, loss = {lsi}')\n",
    "        lossi.append(lsi.item())\n",
    "    # compute accuracy\n",
    "    _, _, _, preds = forward(w1, b1, w2, b2, train_input)\n",
    "    train_accuracy = compute_accuracy(preds, train_target)\n",
    "    _, _, _, preds = forward(w1, b1, w2, b2, test_input)\n",
    "    test_accuracy = compute_accuracy(preds, test_target)\n",
    "    print(f'{train_accuracy=}')\n",
    "    print(f'{test_accuracy=}')\n",
    "    return lossi\n",
    "\n",
    "        \n",
    "    "
   ]
  },
  {
   "cell_type": "code",
   "execution_count": 27,
   "metadata": {},
   "outputs": [
    {
     "name": "stdout",
     "output_type": "stream",
     "text": [
      "step = 0, loss = 9739.25390625\n",
      "step = 100, loss = 6926.8564453125\n",
      "step = 200, loss = 5066.0048828125\n",
      "step = 300, loss = 2349.601318359375\n",
      "step = 400, loss = 1936.7327880859375\n",
      "step = 500, loss = 1799.7366943359375\n",
      "step = 600, loss = 1672.9453125\n",
      "step = 700, loss = 1545.924560546875\n",
      "step = 800, loss = 1472.913330078125\n",
      "step = 900, loss = 1410.3072509765625\n",
      "step = 1000, loss = 1332.910888671875\n",
      "step = 1100, loss = 1325.2740478515625\n",
      "step = 1200, loss = 1234.8121337890625\n",
      "step = 1300, loss = 1198.6011962890625\n",
      "step = 1400, loss = 1163.83837890625\n",
      "step = 1500, loss = 1118.9132080078125\n",
      "step = 1600, loss = 1095.936767578125\n",
      "step = 1700, loss = 1077.3585205078125\n",
      "step = 1800, loss = 1056.1826171875\n",
      "step = 1900, loss = 1043.826416015625\n",
      "step = 2000, loss = 1032.81787109375\n",
      "step = 2100, loss = 1044.0968017578125\n",
      "step = 2200, loss = 1005.797607421875\n",
      "step = 2300, loss = 1007.5702514648438\n",
      "step = 2400, loss = 983.1707763671875\n",
      "step = 2500, loss = 990.5526123046875\n",
      "step = 2600, loss = 985.58154296875\n",
      "step = 2700, loss = 986.205810546875\n",
      "step = 2800, loss = 980.1298217773438\n",
      "step = 2900, loss = 942.627197265625\n",
      "step = 3000, loss = 973.6118774414062\n",
      "step = 3100, loss = 970.022216796875\n",
      "step = 3200, loss = 931.97509765625\n",
      "step = 3300, loss = 927.9027709960938\n",
      "step = 3400, loss = 919.6354370117188\n",
      "step = 3500, loss = 937.8753051757812\n",
      "step = 3600, loss = 916.7745361328125\n",
      "step = 3700, loss = 916.4827270507812\n",
      "step = 3800, loss = 920.5328369140625\n",
      "step = 3900, loss = 908.5330200195312\n",
      "step = 4000, loss = 890.68212890625\n",
      "step = 4100, loss = 891.7412109375\n",
      "step = 4200, loss = 880.3731689453125\n",
      "step = 4300, loss = 897.5087280273438\n",
      "step = 4400, loss = 868.2491455078125\n",
      "step = 4500, loss = 854.9378662109375\n",
      "step = 4600, loss = 861.3590698242188\n",
      "step = 4700, loss = 860.2177124023438\n",
      "step = 4800, loss = 872.4214477539062\n",
      "step = 4900, loss = 877.8362426757812\n",
      "step = 5000, loss = 854.16015625\n",
      "step = 5100, loss = 278.2513122558594\n",
      "step = 5200, loss = 274.7060241699219\n",
      "step = 5300, loss = 272.510498046875\n",
      "step = 5400, loss = 270.85174560546875\n",
      "step = 5500, loss = 269.56390380859375\n",
      "step = 5600, loss = 268.3197021484375\n",
      "step = 5700, loss = 267.3102111816406\n",
      "step = 5800, loss = 266.31988525390625\n",
      "step = 5900, loss = 265.3005065917969\n",
      "step = 6000, loss = 264.39154052734375\n",
      "step = 6100, loss = 263.433837890625\n",
      "step = 6200, loss = 262.5508117675781\n",
      "step = 6300, loss = 261.7678527832031\n",
      "step = 6400, loss = 260.9667053222656\n",
      "step = 6500, loss = 260.25433349609375\n",
      "step = 6600, loss = 259.5250244140625\n",
      "step = 6700, loss = 258.8526306152344\n",
      "step = 6800, loss = 258.24774169921875\n",
      "step = 6900, loss = 257.7120361328125\n",
      "step = 7000, loss = 257.1999816894531\n",
      "step = 7100, loss = 256.6391906738281\n",
      "step = 7200, loss = 256.1173400878906\n",
      "step = 7300, loss = 255.63748168945312\n",
      "step = 7400, loss = 255.15228271484375\n",
      "step = 7500, loss = 254.64918518066406\n",
      "step = 7600, loss = 254.1457061767578\n",
      "step = 7700, loss = 253.67605590820312\n",
      "step = 7800, loss = 253.23373413085938\n",
      "step = 7900, loss = 252.7824249267578\n",
      "step = 8000, loss = 252.30206298828125\n",
      "step = 8100, loss = 251.80816650390625\n",
      "step = 8200, loss = 251.39572143554688\n",
      "step = 8300, loss = 251.0115966796875\n",
      "step = 8400, loss = 250.64959716796875\n",
      "step = 8500, loss = 250.308837890625\n",
      "step = 8600, loss = 249.96902465820312\n",
      "step = 8700, loss = 249.6345672607422\n",
      "step = 8800, loss = 249.30467224121094\n",
      "step = 8900, loss = 248.927490234375\n",
      "step = 9000, loss = 248.5615692138672\n",
      "step = 9100, loss = 248.17459106445312\n",
      "step = 9200, loss = 247.65164184570312\n",
      "step = 9300, loss = 247.12103271484375\n",
      "step = 9400, loss = 246.6732177734375\n",
      "step = 9500, loss = 246.26004028320312\n",
      "step = 9600, loss = 245.95175170898438\n",
      "step = 9700, loss = 245.69561767578125\n",
      "step = 9800, loss = 245.4501495361328\n",
      "step = 9900, loss = 245.22329711914062\n",
      "train_accuracy=0.9580000042915344\n",
      "test_accuracy=0.6330000162124634\n"
     ]
    }
   ],
   "source": [
    "lossi = train(w1, b1, w2, b2)\n"
   ]
  },
  {
   "cell_type": "code",
   "execution_count": 28,
   "metadata": {},
   "outputs": [
    {
     "data": {
      "text/plain": [
       "[<matplotlib.lines.Line2D at 0x7fdb7099c130>]"
      ]
     },
     "execution_count": 28,
     "metadata": {},
     "output_type": "execute_result"
    },
    {
     "data": {
      "image/png": "[encoded data removed]",
      "text/plain": [
       "<Figure size 432x288 with 1 Axes>"
      ]
     },
     "metadata": {
      "needs_background": "light"
     },
     "output_type": "display_data"
    }
   ],
   "source": [
    "plt.plot(lossi)\n",
    "#print(lossi)"
   ]
  },
  {
   "cell_type": "markdown",
   "metadata": {},
   "source": [
    "### Step 2: Reference implementation using pytorch's .backward()\n",
    "Nothing to do in Step 2, this code is provided for you as a reference"
   ]
  },
  {
   "cell_type": "code",
   "execution_count": 44,
   "metadata": {},
   "outputs": [],
   "source": [
    "w1, b1, w2, b2 = init()\n",
    "parameters = [w1, b1, w2, b2]\n",
    "for p in parameters:\n",
    "    p.requires_grad_(True)"
   ]
  },
  {
   "cell_type": "code",
   "execution_count": 46,
   "metadata": {},
   "outputs": [],
   "source": [
    "# reference code\n",
    "torch.set_printoptions(linewidth=200)\n",
    "import torch.nn as F\n",
    "\n",
    "def train(w1, b1, w2, b2):\n",
    "    lossi = []\n",
    "    for step in range(10000):\n",
    "        xb = train_input\n",
    "        yb = train_target\n",
    "        num_samples = xb.shape[0]\n",
    "        # forward\n",
    "        z1, h1, z2, h2 = forward(w1, b1, w2, b2, xb)\n",
    "        xloss = F.MSELoss()\n",
    "        lsi = xloss(h2, yb) * yb.nelement()\n",
    "        # backward\n",
    "        for p in parameters:\n",
    "            p.grad = None\n",
    "        lsi.backward()\n",
    "        # update\n",
    "        lr = 0.1 / num_samples\n",
    "        for p in parameters:\n",
    "            p.data += -lr * p.grad\n",
    "        if step % 100 == 0: print(f'step = {step}, loss = {lsi}')\n",
    "        lossi.append(lsi.item())\n",
    "    # compute accuracy\n",
    "    _, _, _, preds = forward(w1, b1, w2, b2, train_input)\n",
    "    train_accuracy = compute_accuracy(preds, train_target)\n",
    "    _, _, _, preds = forward(w1, b1, w2, b2, test_input)\n",
    "    test_accuracy = compute_accuracy(preds, test_target)\n",
    "    print(f'{train_accuracy=}')\n",
    "    print(f'{test_accuracy=}')\n",
    "    return lossi"
   ]
  },
  {
   "cell_type": "code",
   "execution_count": 47,
   "metadata": {},
   "outputs": [
    {
     "name": "stdout",
     "output_type": "stream",
     "text": [
      "step = 0, loss = 9739.25390625\n",
      "step = 100, loss = 8384.5673828125\n",
      "step = 200, loss = 7972.76953125\n",
      "step = 300, loss = 7747.9619140625\n",
      "step = 400, loss = 7546.99951171875\n",
      "step = 500, loss = 7377.88916015625\n",
      "step = 600, loss = 7153.6015625\n",
      "step = 700, loss = 7043.0703125\n",
      "step = 800, loss = 6886.37255859375\n",
      "step = 900, loss = 6764.03564453125\n",
      "step = 1000, loss = 6646.9951171875\n",
      "step = 1100, loss = 6522.130859375\n",
      "step = 1200, loss = 6405.4970703125\n",
      "step = 1300, loss = 6234.9443359375\n",
      "step = 1400, loss = 5988.87646484375\n",
      "step = 1500, loss = 5528.62841796875\n",
      "step = 1600, loss = 5303.3173828125\n",
      "step = 1700, loss = 4997.66455078125\n",
      "step = 1800, loss = 4494.41650390625\n",
      "step = 1900, loss = 3947.8857421875\n",
      "step = 2000, loss = 3221.61865234375\n",
      "step = 2100, loss = 2476.833984375\n",
      "step = 2200, loss = 2161.94091796875\n",
      "step = 2300, loss = 2116.81640625\n",
      "step = 2400, loss = 2061.27099609375\n",
      "step = 2500, loss = 1989.8192138671875\n",
      "step = 2600, loss = 1889.899169921875\n",
      "step = 2700, loss = 1696.317626953125\n",
      "step = 2800, loss = 1427.393310546875\n",
      "step = 2900, loss = 1375.9051513671875\n",
      "step = 3000, loss = 1275.052978515625\n",
      "step = 3100, loss = 1030.0321044921875\n",
      "step = 3200, loss = 905.3505859375\n",
      "step = 3300, loss = 880.0733642578125\n",
      "step = 3400, loss = 857.3619384765625\n",
      "step = 3500, loss = 839.9254150390625\n",
      "step = 3600, loss = 825.3715209960938\n",
      "step = 3700, loss = 812.1483154296875\n",
      "step = 3800, loss = 798.5679321289062\n",
      "step = 3900, loss = 786.5311889648438\n",
      "step = 4000, loss = 774.4191284179688\n",
      "step = 4100, loss = 761.3651733398438\n",
      "step = 4200, loss = 746.956787109375\n",
      "step = 4300, loss = 732.3687744140625\n",
      "step = 4400, loss = 716.1173706054688\n",
      "step = 4500, loss = 697.29052734375\n",
      "step = 4600, loss = 671.4271240234375\n",
      "step = 4700, loss = 620.6925048828125\n",
      "step = 4800, loss = 472.6708068847656\n",
      "step = 4900, loss = 416.272705078125\n",
      "step = 5000, loss = 411.2613220214844\n",
      "step = 5100, loss = 407.9990234375\n",
      "step = 5200, loss = 405.3293762207031\n",
      "step = 5300, loss = 402.9078063964844\n",
      "step = 5400, loss = 400.74139404296875\n",
      "step = 5500, loss = 398.70770263671875\n",
      "step = 5600, loss = 396.58001708984375\n",
      "step = 5700, loss = 394.5198059082031\n",
      "step = 5800, loss = 392.47686767578125\n",
      "step = 5900, loss = 390.37420654296875\n",
      "step = 6000, loss = 388.45050048828125\n",
      "step = 6100, loss = 386.7522888183594\n",
      "step = 6200, loss = 385.1085205078125\n",
      "step = 6300, loss = 383.506591796875\n",
      "step = 6400, loss = 381.912841796875\n",
      "step = 6500, loss = 380.3619689941406\n",
      "step = 6600, loss = 378.7466735839844\n",
      "step = 6700, loss = 377.0234069824219\n",
      "step = 6800, loss = 375.48944091796875\n",
      "step = 6900, loss = 374.158447265625\n",
      "step = 7000, loss = 372.8988037109375\n",
      "step = 7100, loss = 371.6591796875\n",
      "step = 7200, loss = 370.4399108886719\n",
      "step = 7300, loss = 369.3041687011719\n",
      "step = 7400, loss = 368.2497863769531\n",
      "step = 7500, loss = 367.21484375\n",
      "step = 7600, loss = 366.1543273925781\n",
      "step = 7700, loss = 365.0657958984375\n",
      "step = 7800, loss = 363.9915466308594\n",
      "step = 7900, loss = 362.9375\n",
      "step = 8000, loss = 361.9556884765625\n",
      "step = 8100, loss = 361.03143310546875\n",
      "step = 8200, loss = 360.1446228027344\n",
      "step = 8300, loss = 359.2684631347656\n",
      "step = 8400, loss = 358.3663024902344\n",
      "step = 8500, loss = 357.3663024902344\n",
      "step = 8600, loss = 356.2996826171875\n",
      "step = 8700, loss = 355.1708984375\n",
      "step = 8800, loss = 354.02685546875\n",
      "step = 8900, loss = 352.93743896484375\n",
      "step = 9000, loss = 351.933837890625\n",
      "step = 9100, loss = 350.9857482910156\n",
      "step = 9200, loss = 350.0750427246094\n",
      "step = 9300, loss = 349.1589050292969\n",
      "step = 9400, loss = 348.2283630371094\n",
      "step = 9500, loss = 347.2904052734375\n",
      "step = 9600, loss = 346.40057373046875\n",
      "step = 9700, loss = 345.4122009277344\n",
      "step = 9800, loss = 344.422119140625\n",
      "step = 9900, loss = 343.5929260253906\n",
      "train_accuracy=0.8840000033378601\n",
      "test_accuracy=0.6010000109672546\n"
     ]
    }
   ],
   "source": [
    "lossi = train(w1, b1, w2, b2)"
   ]
  },
  {
   "cell_type": "code",
   "execution_count": 48,
   "metadata": {},
   "outputs": [
    {
     "data": {
      "text/plain": [
       "[<matplotlib.lines.Line2D at 0x7fdb84ac9580>]"
      ]
     },
     "execution_count": 48,
     "metadata": {},
     "output_type": "execute_result"
    },
    {
     "data": {
      "image/png": "[encoded data removed]",
      "text/plain": [
       "<Figure size 432x288 with 1 Axes>"
      ]
     },
     "metadata": {
      "needs_background": "light"
     },
     "output_type": "display_data"
    }
   ],
   "source": [
    "plt.plot(lossi)"
   ]
  },
  {
   "cell_type": "markdown",
   "metadata": {},
   "source": [
    "### Step 3: Build the same MLP layer but with fully pytorch code (nn.Linear(), etc.)"
   ]
  },
  {
   "cell_type": "code",
   "execution_count": 49,
   "metadata": {},
   "outputs": [],
   "source": [
    "# network dimensions\n",
    "n_in = 784\n",
    "n_hidden = 200\n",
    "n_out = 10"
   ]
  },
  {
   "cell_type": "code",
   "execution_count": 50,
   "metadata": {},
   "outputs": [],
   "source": [
    "X_tr, Y_tr = train_input, train_target\n",
    "X_test, Y_test = test_input, test_target"
   ]
  },
  {
   "cell_type": "code",
   "execution_count": 32,
   "metadata": {},
   "outputs": [],
   "source": [
    "class MLP(nn.Module):\n",
    "\n",
    "    def __init__(self):\n",
    "        super().__init__()\n",
    "        self.layers = nn.ModuleList((\n",
    "            nn.Linear(n_in, n_hidden),\n",
    "            nn.Tanh(),\n",
    "            nn.Linear(n_hidden, n_out),\n",
    "            nn.Tanh()\n",
    "        ))\n",
    "\n",
    "    def __call__(self, x):\n",
    "        for layer in self.layers:\n",
    "            x = layer(x)\n",
    "        return x\n",
    "    \n",
    "    def __parameters__(self):\n",
    "        return [p for layer in self.layers for p in layer.parameters]\n",
    "\n",
    "model = MLP()\n",
    "optimizer = torch.optim.AdamW(model.parameters(), lr=1e-3)\n",
    "loss_fn = nn.MSELoss()"
   ]
  },
  {
   "cell_type": "code",
   "execution_count": 33,
   "metadata": {},
   "outputs": [
    {
     "name": "stdout",
     "output_type": "stream",
     "text": [
      "step =      0\tloss=0.13261\taccuracy (train, test): 0.13300\t0.16400\n",
      "step =   1000\tloss=0.00007\taccuracy (train, test): 1.00000\t0.87300\n",
      "step =   2000\tloss=0.00003\taccuracy (train, test): 1.00000\t0.87300\n",
      "step =   3000\tloss=0.00003\taccuracy (train, test): 1.00000\t0.88000\n",
      "step =   4000\tloss=0.00002\taccuracy (train, test): 1.00000\t0.88500\n",
      "step =   5000\tloss=0.00008\taccuracy (train, test): 1.00000\t0.88600\n",
      "step =   6000\tloss=0.00006\taccuracy (train, test): 1.00000\t0.88500\n",
      "step =   7000\tloss=0.00002\taccuracy (train, test): 1.00000\t0.88700\n",
      "step =   8000\tloss=0.00004\taccuracy (train, test): 1.00000\t0.88600\n",
      "step =   9000\tloss=0.00005\taccuracy (train, test): 1.00000\t0.88500\n"
     ]
    }
   ],
   "source": [
    "# training\n",
    "num_epochs = 10000\n",
    "\n",
    "for n in range(num_epochs):\n",
    "    y_pred = model(X_tr)\n",
    "    loss = loss_fn(y_pred, Y_tr)\n",
    "    optimizer.zero_grad()\n",
    "    loss.backward()\n",
    "    optimizer.step()\n",
    "    if n % 1000 == 0: \n",
    "        with torch.no_grad():\n",
    "            # train accuracy\n",
    "            acc_train = compute_accuracy(y_pred, Y_tr)\n",
    "            # test accuracy\n",
    "            y_test_preds = model(X_test)\n",
    "            acc_test = compute_accuracy(y_test_preds, Y_test)\n",
    "            print(f'step = {n:6d}\\tloss={loss.item():.5f}\\taccuracy (train, test): {acc_train:.5f}\\t{acc_test:.5f}')\n",
    "\n",
    "\n"
   ]
  },
  {
   "cell_type": "markdown",
   "metadata": {},
   "source": [
    "##### Exercise: try to improve accuracy!"
   ]
  },
  {
   "cell_type": "markdown",
   "metadata": {},
   "source": [
    "To try to improve the accuracy, I used a deeper neural network. I first tried to add a penalty so that the network generalizes better (since I suspect my network of overfitting the data due to the gap between the training and the testing error); however, I got worse results. I then tried to consider a deeper neural network and modified the loss function. I ended up with slightly better results."
   ]
  },
  {
   "cell_type": "code",
   "execution_count": 52,
   "metadata": {},
   "outputs": [],
   "source": [
    "n_hidden_deeper = 300\n",
    "class MLP_deeper(nn.Module):\n",
    "\n",
    "    def __init__(self):\n",
    "        super().__init__()\n",
    "        self.layers = nn.ModuleList((\n",
    "            nn.Linear(n_in, n_hidden_deeper),\n",
    "            nn.Tanh(),\n",
    "            nn.Linear(n_hidden_deeper, n_out),\n",
    "            nn.Tanh()\n",
    "        ))\n",
    "\n",
    "    def __call__(self, x):\n",
    "        for layer in self.layers:\n",
    "            x = layer(x)\n",
    "        return x\n",
    "    \n",
    "    def __parameters__(self):\n",
    "        return [p for layer in self.layers for p in layer.parameters]\n",
    "\n",
    "model_depper = MLP_deeper()\n",
    "optimizer = torch.optim.AdamW(model_depper.parameters(), lr=1e-3)\n",
    "l1_lambda = 0.01\n",
    "loss_fn = nn.L1Loss()"
   ]
  },
  {
   "cell_type": "code",
   "execution_count": 58,
   "metadata": {},
   "outputs": [
    {
     "name": "stdout",
     "output_type": "stream",
     "text": [
      "step =      0\tloss=0.25122\taccuracy (train, test): 0.12000\t0.20300\n",
      "step =   1000\tloss=0.02826\taccuracy (train, test): 0.99900\t0.88600\n",
      "step =   2000\tloss=0.02038\taccuracy (train, test): 1.00000\t0.88300\n",
      "step =   3000\tloss=0.01378\taccuracy (train, test): 1.00000\t0.88700\n",
      "step =   4000\tloss=0.01330\taccuracy (train, test): 1.00000\t0.88400\n",
      "step =   5000\tloss=0.01183\taccuracy (train, test): 1.00000\t0.88200\n",
      "step =   6000\tloss=0.01106\taccuracy (train, test): 1.00000\t0.88100\n",
      "step =   7000\tloss=0.01197\taccuracy (train, test): 1.00000\t0.88200\n",
      "step =   8000\tloss=0.01104\taccuracy (train, test): 1.00000\t0.87800\n",
      "step =   9000\tloss=0.01113\taccuracy (train, test): 1.00000\t0.87700\n"
     ]
    }
   ],
   "source": [
    "# training\n",
    "num_epochs = 10000\n",
    "\n",
    "for n in range(num_epochs):\n",
    "    y_pred = model_depper(X_tr)\n",
    "    loss = loss_fn(y_pred, Y_tr)\n",
    "    optimizer.zero_grad()\n",
    "    loss.backward()\n",
    "    optimizer.step()\n",
    "    if n % 1000 == 0: \n",
    "        with torch.no_grad():\n",
    "            # train accuracy\n",
    "            acc_train = compute_accuracy(y_pred, Y_tr)\n",
    "            # test accuracy\n",
    "            y_test_preds = model_depper(X_test)\n",
    "            acc_test = compute_accuracy(y_test_preds, Y_test)\n",
    "            print(f'step = {n:6d}\\tloss={loss.item():.5f}\\taccuracy (train, test): {acc_train:.5f}\\t{acc_test:.5f}')\n",
    "\n",
    "\n"
   ]
  }
 ],
 "metadata": {
  "kernelspec": {
   "display_name": "env",
   "language": "python",
   "name": "python3"
  },
  "language_info": {
   "codemirror_mode": {
    "name": "ipython",
    "version": 3
   },
   "file_extension": ".py",
   "mimetype": "text/x-python",
   "name": "python",
   "nbconvert_exporter": "python",
   "pygments_lexer": "ipython3",
   "version": "3.9.12"
  }
 },
 "nbformat": 4,
 "nbformat_minor": 2
}
